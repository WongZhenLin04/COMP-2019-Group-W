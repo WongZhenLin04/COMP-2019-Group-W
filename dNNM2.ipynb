{
 "cells": [
  {
   "cell_type": "markdown",
   "id": "defc3be8-9438-4225-a60c-ff815f67cd79",
   "metadata": {},
   "source": [
    "# Run this in the SEED EEG File"
   ]
  },
  {
   "cell_type": "code",
   "execution_count": 1,
   "id": "8e2df528-b8e8-42b8-a0e7-c82fd6a279f5",
   "metadata": {},
   "outputs": [],
   "source": [
    "import os\n",
    "import numpy as np \n",
    "import pickle\n",
    "from ipynb.fs.full.get_extracted_data import getDE_data\n",
    "from ipynb.fs.full.LabelTesting import makeOutThreeArr\n",
    "import tensorflow as tf\n",
    "from ipynb.fs.full.featureExtraction import getAllFeatureData"
   ]
  },
  {
   "cell_type": "markdown",
   "id": "4edf44be-dd36-4671-8a6a-81faa9fe9a39",
   "metadata": {},
   "source": [
    "### data prepping"
   ]
  },
  {
   "cell_type": "code",
   "execution_count": 2,
   "id": "d39ca615-44f3-418c-ab4d-0fc8f6514fee",
   "metadata": {},
   "outputs": [],
   "source": [
    "x_data=getAllFeatureData()"
   ]
  },
  {
   "cell_type": "code",
   "execution_count": 3,
   "id": "cb9305e2-bac9-4a47-b74a-24e37605fad3",
   "metadata": {},
   "outputs": [],
   "source": [
    "label=x_data[:, 310]\n",
    "x_data=np.delete(x_data, 310, 1)"
   ]
  },
  {
   "cell_type": "code",
   "execution_count": 5,
   "id": "a9c40150-ba44-42ed-9434-a175674a888e",
   "metadata": {},
   "outputs": [],
   "source": [
    "from sklearn.model_selection import train_test_split\n",
    "X_train, X_test, y_train, y_test = train_test_split(x_data, makeOutThreeArr(label), test_size=0.1)"
   ]
  },
  {
   "cell_type": "markdown",
   "id": "7fd15cfa-3f92-42c2-989f-f8c3375b8977",
   "metadata": {},
   "source": [
    "## function for visualizing the loses"
   ]
  },
  {
   "cell_type": "code",
   "execution_count": 7,
   "id": "75a1d5d8-d93c-4645-95c5-c26c0c4d9b8e",
   "metadata": {},
   "outputs": [],
   "source": [
    "import matplotlib.pyplot as plt\n",
    "def plot_history(history):\n",
    "  fig, (ax1, ax2) = plt.subplots(1, 2, figsize=(10, 4))\n",
    "  ax1.plot(history.history['loss'], label='loss')\n",
    "  ax1.plot(history.history['val_loss'], label='val_loss')\n",
    "  ax1.set_xlabel('Epoch')\n",
    "  ax1.set_ylabel('Binary crossentropy')\n",
    "  ax1.grid(True)\n",
    "\n",
    "  ax2.plot(history.history['accuracy'], label='accuracy')\n",
    "  ax2.plot(history.history['val_accuracy'], label='val_accuracy')\n",
    "  ax2.set_xlabel('Epoch')\n",
    "  ax2.set_ylabel('Accuracy')\n",
    "  ax2.grid(True)\n",
    "\n",
    "  plt.show()"
   ]
  },
  {
   "cell_type": "markdown",
   "id": "b2fcf40c-6e8b-41ca-9f47-15858dce1321",
   "metadata": {},
   "source": [
    "## defining model (can be better)"
   ]
  },
  {
   "cell_type": "code",
   "execution_count": 8,
   "id": "a46e6e67-03a9-42ed-a60c-434fcc67cc64",
   "metadata": {},
   "outputs": [],
   "source": [
    "nn_model = tf.keras.Sequential([\n",
    "    tf.keras.layers.Dense(128, activation='relu', input_shape=(310,)),\n",
    "    tf.keras.layers.Dense(64, activation='relu'),\n",
    "    tf.keras.layers.Dense(32, activation='relu'),\n",
    "    tf.keras.layers.Dense(3, activation='sigmoid')\n",
    "])\n",
    "nn_model.compile(optimizer=tf.keras.optimizers.Adam(0.001), loss='binary_crossentropy',\n",
    "                  metrics=['accuracy'])"
   ]
  },
  {
   "cell_type": "markdown",
   "id": "2a76d758-a4fd-402e-a377-f4c161ddb3f2",
   "metadata": {},
   "source": [
    "## model traning, will take a bit (make sure laptop is plugged in)"
   ]
  },
  {
   "cell_type": "code",
   "execution_count": 9,
   "id": "d5e920e8-87f3-4b5a-896e-70f60ec4d9a2",
   "metadata": {},
   "outputs": [],
   "source": [
    "history = nn_model.fit(\n",
    "    X_train, y_train, epochs=500, batch_size=50, validation_split=0.2, verbose=0\n",
    "  )"
   ]
  },
  {
   "cell_type": "markdown",
   "id": "47ada3e8-c8cc-47c3-bef8-eb38c80cb69f",
   "metadata": {},
   "source": [
    "## training visualization"
   ]
  },
  {
   "cell_type": "code",
   "execution_count": 10,
   "id": "41d31f2b-1aa5-4346-85ef-ac4f7efe4e3d",
   "metadata": {},
   "outputs": [
    {
     "data": {
      "image/png": "[encoded data removed]",
      "text/plain": [
       "<Figure size 720x288 with 2 Axes>"
      ]
     },
     "metadata": {
      "needs_background": "light"
     },
     "output_type": "display_data"
    }
   ],
   "source": [
    "plot_history(history)"
   ]
  },
  {
   "cell_type": "markdown",
   "id": "8db66b42-17b0-4a66-ba43-7ddd57dfb2d7",
   "metadata": {},
   "source": [
    "## testing model"
   ]
  },
  {
   "cell_type": "code",
   "execution_count": 12,
   "id": "a68ad49d-6c89-48cd-b8f3-a99e0d9da00d",
   "metadata": {},
   "outputs": [
    {
     "name": "stdout",
     "output_type": "stream",
     "text": [
      "160/160 [==============================] - 0s 1ms/step\n"
     ]
    }
   ],
   "source": [
    "y_pred = nn_model.predict(X_test)\n",
    "y_pred = (y_pred > 0.5).astype(int)"
   ]
  },
  {
   "cell_type": "code",
   "execution_count": 14,
   "id": "b4d6798b-0ca0-4bd8-a6b9-6fff25aa2137",
   "metadata": {},
   "outputs": [
    {
     "name": "stdout",
     "output_type": "stream",
     "text": [
      "              precision    recall  f1-score   support\n",
      "\n",
      "           0       1.00      1.00      1.00      1774\n",
      "           1       1.00      1.00      1.00      1630\n",
      "           2       1.00      1.00      1.00      1687\n",
      "\n",
      "   micro avg       1.00      1.00      1.00      5091\n",
      "   macro avg       1.00      1.00      1.00      5091\n",
      "weighted avg       1.00      1.00      1.00      5091\n",
      " samples avg       1.00      1.00      1.00      5091\n",
      "\n"
     ]
    }
   ],
   "source": [
    "from sklearn.metrics import classification_report\n",
    "print(classification_report(y_test, y_pred))"
   ]
  },
  {
   "cell_type": "code",
   "execution_count": null,
   "id": "bb34648a-5179-4a2f-b964-466cb10fe312",
   "metadata": {},
   "outputs": [],
   "source": []
  }
 ],
 "metadata": {
  "kernelspec": {
   "display_name": "Python 3 (ipykernel)",
   "language": "python",
   "name": "python3"
  },
  "language_info": {
   "codemirror_mode": {
    "name": "ipython",
    "version": 3
   },
   "file_extension": ".py",
   "mimetype": "text/x-python",
   "name": "python",
   "nbconvert_exporter": "python",
   "pygments_lexer": "ipython3",
   "version": "3.9.12"
  }
 },
 "nbformat": 4,
 "nbformat_minor": 5
}
