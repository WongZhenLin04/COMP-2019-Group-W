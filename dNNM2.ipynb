{
 "cells": [
  {
   "cell_type": "markdown",
   "id": "defc3be8-9438-4225-a60c-ff815f67cd79",
   "metadata": {},
   "source": [
    "# Run this in the SEED EEG File"
   ]
  },
  {
   "cell_type": "code",
   "execution_count": 16,
   "id": "8e2df528-b8e8-42b8-a0e7-c82fd6a279f5",
   "metadata": {},
   "outputs": [],
   "source": [
    "import os\n",
    "import numpy as np \n",
    "import pickle\n",
    "from ipynb.fs.full.fullDataExtraction import getRawArrayData\n",
    "from ipynb.fs.full.LabelTesting import makeOutThreeArr\n",
    "import tensorflow as tf\n",
    "from ipynb.fs.full.featureExtraction import getAllFeatureData"
   ]
  },
  {
   "cell_type": "markdown",
   "id": "4edf44be-dd36-4671-8a6a-81faa9fe9a39",
   "metadata": {},
   "source": [
    "### data prepping"
   ]
  },
  {
   "cell_type": "code",
   "execution_count": 17,
   "id": "d39ca615-44f3-418c-ab4d-0fc8f6514fee",
   "metadata": {},
   "outputs": [
    {
     "name": "stdout",
     "output_type": "stream",
     "text": [
      "############################################################################################\n",
      "############       F A S T   F E A T U R E  E N G G    A N D    S E L E C T I O N ! ########\n",
      "# Be judicious with featurewiz. Don't use it to create too many un-interpretable features! #\n",
      "############################################################################################\n",
      "Correlation Limit = 0.7\n",
      "Skipping feature engineering since no feature_engg input...\n",
      "Skipping category encoding since no category encoders specified in input...\n",
      "#### Single_Label Multi_Classification problem ####\n",
      "    Loaded train data. Shape = (210429, 13)\n",
      "#### Single_Label Multi_Classification problem ####\n",
      "No test data filename given...\n",
      "Classifying features using a random sample of 10000 rows from dataset...\n",
      "#### Single_Label Multi_Classification problem ####\n",
      "    loading a random sample of 10000 rows into pandas for EDA\n",
      "#######################################################################################\n",
      "######################## C L A S S I F Y I N G  V A R I A B L E S  ####################\n",
      "#######################################################################################\n",
      "        No variables were removed since no ID or low-information variables found in data set\n",
      "    target labels need to be converted...\n",
      "Completed label encoding of target variable = label\n",
      "How model predictions need to be transformed for label:\n",
      "\t{0: -1.0, 1: 0.0, 2: 1.0}\n",
      "#######################################################################################\n",
      "#####  Searching for Uncorrelated List Of Variables (SULOV) in 12 features ############\n",
      "#######################################################################################\n",
      "    there are no null values in dataset...\n",
      "    Removing (5) highly correlated variables:\n",
      "    ['hjorth_complexity', 'katz_fd', 'ptp_amp', 'std', 'variance']\n",
      "    Following (7) vars selected: ['diffEnt', 'hurst_exp', 'kurtosis', 'mean', 'skewness', 'hjorth_mobility', 'rms']\n",
      "Completed SULOV. 7 features selected\n",
      "Time taken for SULOV method = 8 seconds\n",
      "Finally 7 vars selected after SULOV\n",
      "Converting all features to numeric before sending to XGBoost...\n",
      "#######################################################################################\n",
      "#####    R E C U R S I V E   X G B O O S T : F E A T U R E   S E L E C T I O N  #######\n",
      "#######################################################################################\n",
      "Current number of predictors before recursive XGBoost = 7 \n",
      "Number of booster rounds = 20\n",
      "            selecting 3 features in this iteration\n",
      "            selecting 2 features in this iteration\n",
      "            selecting 1 features in this iteration\n",
      "    Completed XGBoost feature selection in 0 seconds\n",
      "#######################################################################################\n",
      "#####          F E A T U R E   S E L E C T I O N   C O M P L E T E D            #######\n",
      "#######################################################################################\n",
      "Selected 4 important features:\n",
      "['hjorth_mobility', 'diffEnt', 'rms', 'skewness']\n",
      "Total Time taken for featurewiz selection = 11 seconds\n",
      "Output contains a list of 4 important features and a train dataframe\n"
     ]
    }
   ],
   "source": [
    "x_data=getAllFeatureData()"
   ]
  },
  {
   "cell_type": "code",
   "execution_count": 18,
   "id": "1af3d8a0-5a61-4a77-9b10-113ed6074b28",
   "metadata": {},
   "outputs": [],
   "source": [
    "label=x_data[:, -2]\n",
    "label_arr = makeOutThreeArr(label)\n",
    "train_data=np.delete(x_data, -1, 1)\n",
    "train_data=np.delete(train_data, -1, 1)"
   ]
  },
  {
   "cell_type": "markdown",
   "id": "7fd15cfa-3f92-42c2-989f-f8c3375b8977",
   "metadata": {},
   "source": [
    "## function for visualizing the loses"
   ]
  },
  {
   "cell_type": "code",
   "execution_count": 19,
   "id": "75a1d5d8-d93c-4645-95c5-c26c0c4d9b8e",
   "metadata": {},
   "outputs": [],
   "source": [
    "import matplotlib.pyplot as plt\n",
    "def plot_history(history):\n",
    "  fig, (ax1, ax2) = plt.subplots(1, 2, figsize=(10, 4))\n",
    "  ax1.plot(history.history['loss'], label='loss')\n",
    "  ax1.plot(history.history['val_loss'], label='val_loss')\n",
    "  ax1.set_xlabel('Epoch')\n",
    "  ax1.set_ylabel('Binary crossentropy')\n",
    "  ax1.grid(True)\n",
    "\n",
    "  ax2.plot(history.history['accuracy'], label='accuracy')\n",
    "  ax2.plot(history.history['val_accuracy'], label='val_accuracy')\n",
    "  ax2.set_xlabel('Epoch')\n",
    "  ax2.set_ylabel('Accuracy')\n",
    "  ax2.grid(True)\n",
    "\n",
    "  plt.show()"
   ]
  },
  {
   "cell_type": "markdown",
   "id": "b2fcf40c-6e8b-41ca-9f47-15858dce1321",
   "metadata": {},
   "source": [
    "## defining model (can be better)"
   ]
  },
  {
   "cell_type": "code",
   "execution_count": 20,
   "id": "a46e6e67-03a9-42ed-a60c-434fcc67cc64",
   "metadata": {},
   "outputs": [],
   "source": [
    "nn_model = tf.keras.Sequential([\n",
    "    tf.keras.layers.Dense(64, activation='relu', input_shape=(train_data.shape[1],)),\n",
    "    tf.keras.layers.Dropout(0.4),\n",
    "    tf.keras.layers.Dense(32, activation='relu'),\n",
    "    tf.keras.layers.Dropout(0.4),\n",
    "    tf.keras.layers.Dense(3, activation='sigmoid')\n",
    "])\n",
    "nn_model.compile(optimizer=tf.keras.optimizers.Adam(0.001), loss='binary_crossentropy',\n",
    "                  metrics=['accuracy'])"
   ]
  },
  {
   "cell_type": "markdown",
   "id": "2a76d758-a4fd-402e-a377-f4c161ddb3f2",
   "metadata": {},
   "source": [
    "## model traning, will take a bit (make sure laptop is plugged in)"
   ]
  },
  {
   "cell_type": "code",
   "execution_count": 21,
   "id": "d5e920e8-87f3-4b5a-896e-70f60ec4d9a2",
   "metadata": {},
   "outputs": [],
   "source": [
    "history = nn_model.fit(\n",
    "    train_data, label_arr, epochs=1500, batch_size=50, validation_split=0.6, shuffle=True, verbose=0\n",
    "  )"
   ]
  },
  {
   "cell_type": "markdown",
   "id": "47ada3e8-c8cc-47c3-bef8-eb38c80cb69f",
   "metadata": {},
   "source": [
    "## training visualization"
   ]
  },
  {
   "cell_type": "code",
   "execution_count": 22,
   "id": "41d31f2b-1aa5-4346-85ef-ac4f7efe4e3d",
   "metadata": {},
   "outputs": [
    {
     "data": {
      "image/png": "[encoded data removed]",
      "text/plain": [
       "<Figure size 720x288 with 2 Axes>"
      ]
     },
     "metadata": {
      "needs_background": "light"
     },
     "output_type": "display_data"
    }
   ],
   "source": [
    "plot_history(history)"
   ]
  },
  {
   "cell_type": "code",
   "execution_count": 23,
   "id": "a99b9826-698f-46b0-a0ed-adcd224f13cf",
   "metadata": {},
   "outputs": [
    {
     "data": {
      "text/plain": [
       "0.7681202292442322"
      ]
     },
     "execution_count": 23,
     "metadata": {},
     "output_type": "execute_result"
    }
   ],
   "source": [
    "history.history['accuracy'][-1]"
   ]
  },
  {
   "cell_type": "code",
   "execution_count": 24,
   "id": "2613162e-9f8a-40de-bdcf-67075a27f53b",
   "metadata": {},
   "outputs": [
    {
     "data": {
      "text/plain": [
       "0.9007071256637573"
      ]
     },
     "execution_count": 24,
     "metadata": {},
     "output_type": "execute_result"
    }
   ],
   "source": [
    "history.history['val_accuracy'][-1]"
   ]
  },
  {
   "cell_type": "code",
   "execution_count": null,
   "id": "bb34648a-5179-4a2f-b964-466cb10fe312",
   "metadata": {},
   "outputs": [],
   "source": []
  }
 ],
 "metadata": {
  "kernelspec": {
   "display_name": "Python 3 (ipykernel)",
   "language": "python",
   "name": "python3"
  },
  "language_info": {
   "codemirror_mode": {
    "name": "ipython",
    "version": 3
   },
   "file_extension": ".py",
   "mimetype": "text/x-python",
   "name": "python",
   "nbconvert_exporter": "python",
   "pygments_lexer": "ipython3",
   "version": "3.9.12"
  }
 },
 "nbformat": 4,
 "nbformat_minor": 5
}
