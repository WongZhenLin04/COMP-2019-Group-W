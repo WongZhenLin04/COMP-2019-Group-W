{
 "cells": [
  {
   "cell_type": "code",
   "execution_count": 1,
   "id": "bf0e436e-a612-4a20-bb7b-25627afb4117",
   "metadata": {},
   "outputs": [
    {
     "name": "stdout",
     "output_type": "stream",
     "text": [
      "Imported 0.2.03 version. Select nrows to a small number when running on huge datasets.\n",
      "output = featurewiz(dataname, target, corr_limit=0.90, verbose=2, sep=',', \n",
      "\t\theader=0, test_data='',feature_engg='', category_encoders='',\n",
      "\t\tdask_xgboost_flag=False, nrows=None, skip_sulov=False)\n",
      "Create new features via 'feature_engg' flag : ['interactions','groupby','target']\n",
      "\n"
     ]
    }
   ],
   "source": [
    "import numpy as np\n",
    "import scipy\n",
    "from scipy.io import loadmat\n",
    "import mne\n",
    "import glob\n",
    "from mne_features.feature_extraction import extract_features\n",
    "import pandas as pd\n",
    "from ipynb.fs.full.fullDataExtraction import getRawArrayData\n",
    "from ipynb.fs.full.feature_selection import get_features\n",
    "from ipynb.fs.full.fullDataExtraction import getLabelsAndMatfiles\n",
    "from ipynb.fs.full.fullDataExtraction import compute_diffEnt"
   ]
  },
  {
   "cell_type": "code",
   "execution_count": 3,
   "id": "ae4be0c8-ccd3-412d-b2bf-59bcb1e460f8",
   "metadata": {},
   "outputs": [],
   "source": [
    "def getAllFeatureData():\n",
    "    x=getRawArrayData()\n",
    "    matfiles,label_list = getLabelsAndMatfiles(glob.glob('Preprocessed_EEG/*.mat'))\n",
    "    selected_funcs = get_features()\n",
    "    combined = np.zeros((1,len(selected_funcs)*62+2))\n",
    "    for subs in x:\n",
    "        sliced_epochs={}\n",
    "        for clip in x[subs]:\n",
    "            sliced_epochs[clip]= mne.make_fixed_length_epochs(x[0][clip], duration=1, preload=True,verbose=0)\n",
    "        for cut in sliced_epochs:\n",
    "            label_used=label_list[cut]\n",
    "            epoch_array=mne.Epochs.get_data(sliced_epochs[cut])\n",
    "            extracted_data=extract_features(epoch_array,200,selected_funcs)\n",
    "            label_col = np.zeros((extracted_data.shape[0],1)) + label_used\n",
    "            cur_sub = np.zeros((extracted_data.shape[0],1)) + (subs+1)\n",
    "            oneCom = np.hstack((extracted_data,label_col))\n",
    "            oneCom = np.hstack((oneCom,cur_sub))\n",
    "            combined = np.vstack((combined,oneCom))\n",
    "    combined = np.delete(combined, 0, axis=0)\n",
    "    return combined"
   ]
  },
  {
   "cell_type": "code",
   "execution_count": null,
   "id": "1f543c83-b898-4c04-95df-1fbc4062eebf",
   "metadata": {},
   "outputs": [],
   "source": []
  }
 ],
 "metadata": {
  "kernelspec": {
   "display_name": "Python 3 (ipykernel)",
   "language": "python",
   "name": "python3"
  },
  "language_info": {
   "codemirror_mode": {
    "name": "ipython",
    "version": 3
   },
   "file_extension": ".py",
   "mimetype": "text/x-python",
   "name": "python",
   "nbconvert_exporter": "python",
   "pygments_lexer": "ipython3",
   "version": "3.9.12"
  }
 },
 "nbformat": 4,
 "nbformat_minor": 5
}
