{
 "cells": [
  {
   "cell_type": "code",
   "execution_count": 1,
   "id": "48ee387e-6198-44fc-b4d9-4f711f54fa11",
   "metadata": {},
   "outputs": [],
   "source": [
    "import numpy as np\n",
    "import scipy\n",
    "from scipy.io import loadmat\n",
    "import mne, glob\n",
    "import pandas as pd\n",
    "import xlrd"
   ]
  },
  {
   "cell_type": "code",
   "execution_count": 2,
   "id": "0c0c2d14-776f-4bb6-90dc-d4b09f16c0eb",
   "metadata": {},
   "outputs": [],
   "source": [
    "def compute_diffEnt(data):\n",
    "    return scipy.stats.differential_entropy(data, axis=-1)"
   ]
  },
  {
   "cell_type": "code",
   "execution_count": 3,
   "id": "7a387b87-b3a0-4481-b28e-d11c539bcd76",
   "metadata": {},
   "outputs": [],
   "source": [
    "def extarctChannelNames(channelFile):\n",
    "    channelNames=channelFile.iloc[:,0]\n",
    "    channelNames=np.ndarray.tolist(pd.Series.to_numpy(channelNames))\n",
    "    channelNames.insert(0,\"FP1\")\n",
    "    return channelNames"
   ]
  },
  {
   "cell_type": "code",
   "execution_count": 4,
   "id": "018e73aa-1a87-40fb-83f0-46c792ca4ace",
   "metadata": {},
   "outputs": [],
   "source": [
    "def getLabelsAndMatfiles(matfiles):\n",
    "    matfiles.sort()\n",
    "    labels=loadmat(matfiles[15])\n",
    "    matfiles.pop()\n",
    "    label_list=np.ndarray.tolist(labels['label'])[0]\n",
    "    return matfiles, label_list"
   ]
  },
  {
   "cell_type": "code",
   "execution_count": 5,
   "id": "5113d439-675d-4752-be8f-2238dd9816ad",
   "metadata": {},
   "outputs": [],
   "source": [
    "def getRawArrayData():\n",
    "    channelNames=extarctChannelNames(pd.read_excel(\"Preprocessed_EEG/channel-order.xlsx\"))\n",
    "    matfiles,label_list = getLabelsAndMatfiles(glob.glob('Preprocessed_EEG/*.mat'))\n",
    "    info=mne.create_info(channelNames,200,'eeg')\n",
    "    subjects={}\n",
    "    indexs=[1,2,3,4,5,6,7,8,9,10,11,12,13,14,15]\n",
    "    for x in range(0,15):\n",
    "        clip_info={}\n",
    "        used_data = loadmat(matfiles[x])\n",
    "        del used_data[\"__header__\"]\n",
    "        del used_data[\"__version__\"]\n",
    "        del used_data[\"__globals__\"]\n",
    "        keyName=list(used_data.keys())[0][:-1]\n",
    "        for ind,i in enumerate(indexs):\n",
    "            rawData=used_data[keyName + str(i)]\n",
    "            clip_info[ind] = mne.io.RawArray(rawData,info,verbose=0)\n",
    "        subjects[x]=clip_info\n",
    "    return subjects"
   ]
  },
  {
   "cell_type": "code",
   "execution_count": null,
   "id": "e45aa52e-1321-4e82-85c9-9b456b7d1554",
   "metadata": {},
   "outputs": [],
   "source": []
  }
 ],
 "metadata": {
  "kernelspec": {
   "display_name": "Python 3 (ipykernel)",
   "language": "python",
   "name": "python3"
  },
  "language_info": {
   "codemirror_mode": {
    "name": "ipython",
    "version": 3
   },
   "file_extension": ".py",
   "mimetype": "text/x-python",
   "name": "python",
   "nbconvert_exporter": "python",
   "pygments_lexer": "ipython3",
   "version": "3.9.12"
  }
 },
 "nbformat": 4,
 "nbformat_minor": 5
}
