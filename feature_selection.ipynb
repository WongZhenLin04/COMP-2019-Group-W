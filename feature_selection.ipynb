{
 "cells": [
  {
   "cell_type": "code",
   "execution_count": 1,
   "id": "febe9658-44c3-4ca4-8aae-865344426833",
   "metadata": {},
   "outputs": [
    {
     "name": "stdout",
     "output_type": "stream",
     "text": [
      "Imported 0.2.03 version. Select nrows to a small number when running on huge datasets.\n",
      "output = featurewiz(dataname, target, corr_limit=0.90, verbose=2, sep=',', \n",
      "\t\theader=0, test_data='',feature_engg='', category_encoders='',\n",
      "\t\tdask_xgboost_flag=False, nrows=None, skip_sulov=False)\n",
      "Create new features via 'feature_engg' flag : ['interactions','groupby','target']\n",
      "\n"
     ]
    }
   ],
   "source": [
    "import numpy as np\n",
    "import scipy\n",
    "from scipy.io import loadmat\n",
    "import mne, glob\n",
    "from mne_features.feature_extraction import extract_features\n",
    "import pandas as pd\n",
    "from ipynb.fs.full.fullDataExtraction import getRawArrayData\n",
    "from ipynb.fs.full.fullDataExtraction import getLabelsAndMatfiles\n",
    "from ipynb.fs.full.LabelConvert import makeOutThreeArr\n",
    "import pandas as pd\n",
    "from featurewiz import featurewiz"
   ]
  },
  {
   "cell_type": "code",
   "execution_count": 2,
   "id": "d67f1939-a5d3-4189-ac67-48d0be17e73d",
   "metadata": {},
   "outputs": [],
   "source": [
    "#function that takes in a list of values and calulates the differential entropy for the given list. \n",
    "def compute_diffEnt(data):\n",
    "    return scipy.stats.differential_entropy(data, axis=-1)"
   ]
  },
  {
   "cell_type": "markdown",
   "id": "817d65aa-845d-4e96-9645-edb7f5784471",
   "metadata": {},
   "source": [
    "### Selecting features based on data from one subject ONLY"
   ]
  },
  {
   "cell_type": "code",
   "execution_count": 3,
   "id": "0377335d-4397-4c47-a2f0-5d02e91360f4",
   "metadata": {},
   "outputs": [],
   "source": [
    "#function that takes in an existing numpy array of currently extracted data and vertically stacks the new data (one_feature) onto itself\n",
    "def stackOneFeature(extracted_data,one_feature):\n",
    "    for row in range (1,extracted_data.shape[0]):\n",
    "        cur_time_read = np.reshape(extracted_data[row],(62,1))\n",
    "        one_feature = np.vstack((one_feature,cur_time_read))\n",
    "    return cur_time_read,one_feature"
   ]
  },
  {
   "cell_type": "code",
   "execution_count": 4,
   "id": "f7d5c2b9-6792-47c1-a52e-069fc75c0fd1",
   "metadata": {},
   "outputs": [],
   "source": [
    "#function that takes in a list of features to check for the custom defined feature of differential entropy, if present, the entry is switched to a tuple that contains \n",
    "#the functional definition and the name of the feature \n",
    "def checkForDiffEnt(fin):\n",
    "    CheckingList=fin\n",
    "    for features in range(len(fin)):\n",
    "        if (CheckingList[features] =='diffEnt'):\n",
    "            CheckingList[features]=('diffEnt',compute_diffEnt)\n",
    "    return CheckingList\n",
    "    "
   ]
  },
  {
   "cell_type": "code",
   "execution_count": 5,
   "id": "6a543031-8445-4744-b1f8-c8a9621ec010",
   "metadata": {},
   "outputs": [],
   "source": [
    "#Function that selects the optimal features from the data for a sinlge subject. Manipulates the data first into a form that is recognisable by the library \"featurewiz\"\n",
    "# and returns the list of most relavent features\n",
    "def get_features():\n",
    "    matfiles,label_list = getLabelsAndMatfiles(glob.glob('Preprocessed_EEG/*.mat'))\n",
    "    x=getRawArrayData()\n",
    "    selected_funcs = ['hjorth_complexity','hjorth_mobility',('diffEnt', compute_diffEnt),'std','skewness','mean','variance','ptp_amp','kurtosis','rms','hurst_exp','katz_fd']\n",
    "    allData=np.zeros((1,13))\n",
    "    #for all clips for the first subject\n",
    "    for clips in x[0]:\n",
    "        #epoch clip entry and make into ndarray\n",
    "        cur_clip=mne.make_fixed_length_epochs(x[0][clips], duration=1, preload=True,verbose=0)\n",
    "        epoch_array=mne.Epochs.get_data(cur_clip)\n",
    "        #get the label for the currently analysed clip entry and initialize the first feature name\n",
    "        cur_label=label_list[clips]\n",
    "        cur_func=[selected_funcs[0]]\n",
    "        #extract feature from data\n",
    "        extracted_data=extract_features(epoch_array,200,cur_func)\n",
    "        #perform stacking for first feature\n",
    "        one_feature=np.reshape(extracted_data[0],(62,1))\n",
    "        cur_time_read,one_feature=stackOneFeature(extracted_data,one_feature)\n",
    "        com=np.zeros((one_feature.shape[0],1))\n",
    "        com=np.hstack((com,one_feature))\n",
    "        #for the rest of the features, perform same procefure as above\n",
    "        for i in range(1,len(selected_funcs)):\n",
    "            cur_func=[selected_funcs[i]]\n",
    "            extracted_data=extract_features(epoch_array,200,cur_func)\n",
    "            one_feature=np.reshape(extracted_data[0],(62,1))\n",
    "            cur_time_read,one_feature=stackOneFeature(extracted_data,one_feature)\n",
    "            com=np.hstack((com,one_feature))\n",
    "        #stacking on the labels for that particular feature\n",
    "        label_col=np.zeros((com.shape[0],1))+cur_label\n",
    "        com=np.delete(com, 0, axis=1)\n",
    "        com = np.hstack((com,label_col))\n",
    "        allData=np.vstack((allData,com))\n",
    "    #making a dataframe for the extracted data\n",
    "    col_name= ['hjorth_complexity','hjorth_mobility','diffEnt','std','skewness','mean','variance','ptp_amp','kurtosis','rms','hurst_exp','katz_fd','label']\n",
    "    df = pd.DataFrame(allData, columns =col_name)\n",
    "    features = featurewiz(df, target='label', corr_limit=0.70, verbose=0)\n",
    "    fin = features[0]\n",
    "    return checkForDiffEnt(fin)"
   ]
  },
  {
   "cell_type": "code",
   "execution_count": null,
   "id": "7f7f9d5f-3535-44cb-9679-a536ddc2fa1e",
   "metadata": {},
   "outputs": [],
   "source": []
  }
 ],
 "metadata": {
  "kernelspec": {
   "display_name": "Python 3 (ipykernel)",
   "language": "python",
   "name": "python3"
  },
  "language_info": {
   "codemirror_mode": {
    "name": "ipython",
    "version": 3
   },
   "file_extension": ".py",
   "mimetype": "text/x-python",
   "name": "python",
   "nbconvert_exporter": "python",
   "pygments_lexer": "ipython3",
   "version": "3.9.12"
  }
 },
 "nbformat": 4,
 "nbformat_minor": 5
}
