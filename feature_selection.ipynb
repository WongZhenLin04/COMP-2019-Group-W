{
 "cells": [
  {
   "cell_type": "code",
   "execution_count": 2,
   "id": "febe9658-44c3-4ca4-8aae-865344426833",
   "metadata": {},
   "outputs": [],
   "source": [
    "import numpy as np\n",
    "import scipy\n",
    "from scipy.io import loadmat\n",
    "import mne, glob\n",
    "from mne_features.feature_extraction import extract_features\n",
    "import pandas as pd\n",
    "from ipynb.fs.full.fullDataExtraction import getRawArrayData\n",
    "from ipynb.fs.full.LabelTesting import makeOutThreeArr"
   ]
  },
  {
   "cell_type": "code",
   "execution_count": 12,
   "id": "6a282ca5-df71-4126-a036-915b29ab16b6",
   "metadata": {},
   "outputs": [],
   "source": [
    "def compute_diffEnt(data):\n",
    "    return scipy.stats.differential_entropy(data, axis=-1)"
   ]
  },
  {
   "cell_type": "code",
   "execution_count": 3,
   "id": "6a543031-8445-4744-b1f8-c8a9621ec010",
   "metadata": {},
   "outputs": [],
   "source": [
    "matfiles = glob.glob('Preprocessed_EEG/*.mat')\n",
    "matfiles.sort()\n",
    "labels=loadmat(matfiles[15])\n",
    "label_list=np.ndarray.tolist(labels['label'])[0]\n",
    "x=getRawArrayData()\n",
    "selected_funcs = ['hjorth_complexity','hjorth_mobility',('diffEnt', compute_diffEnt),'std','skewness','mean','variance','ptp_amp','kurtosis','rms','hurst_exp','katz_fd','line_length']"
   ]
  },
  {
   "cell_type": "markdown",
   "id": "b8a6bf4c-8ea9-431f-a360-a7556262a7ad",
   "metadata": {},
   "source": [
    "Where For loop should begin"
   ]
  },
  {
   "cell_type": "code",
   "execution_count": 11,
   "id": "6003643b-2582-4a61-a8c2-9ebc24ad0cad",
   "metadata": {},
   "outputs": [],
   "source": [
    "test=mne.make_fixed_length_epochs(x[0][0], duration=1, preload=True,verbose=0)\n",
    "epoch_array=mne.Epochs.get_data(test)\n",
    "cur_label=label_list[0]"
   ]
  },
  {
   "cell_type": "code",
   "execution_count": 49,
   "id": "6e12e289-6da9-41ec-aa93-69adbba7fb3f",
   "metadata": {},
   "outputs": [],
   "source": [
    "cur_func=[selected_funcs[0]]\n",
    "extracted_data=extract_features(epoch_array,200,cur_func)\n",
    "one_feature=np.reshape(extracted_data[0],(62,1))\n",
    "for i in range (1,extracted_data.shape[0]):\n",
    "    cur_time_read = np.reshape(extracted_data[i],(62,1))\n",
    "    one_feature = np.vstack((one_feature,cur_time_read))"
   ]
  },
  {
   "cell_type": "code",
   "execution_count": 51,
   "id": "b82af185-5690-4db9-a1d4-16b4f165dd98",
   "metadata": {},
   "outputs": [],
   "source": [
    "com=np.zeros((one_feature.shape[0],1))"
   ]
  },
  {
   "cell_type": "code",
   "execution_count": 53,
   "id": "afa9662f-e9ba-489b-a3ee-02371f4e2a8a",
   "metadata": {},
   "outputs": [],
   "source": [
    "for i in range(1,len(selected_funcs)):\n",
    "    cur_func=[selected_funcs[i]]\n",
    "    extracted_data=extract_features(epoch_array,200,cur_func)\n",
    "    one_feature=np.reshape(extracted_data[0],(62,1))\n",
    "    for j in range (1,extracted_data.shape[0]):\n",
    "        cur_time_read = np.reshape(extracted_data[j],(62,1))\n",
    "        one_feature = np.vstack((one_feature,cur_time_read))\n",
    "    com = np.hstack((com,one_feature))"
   ]
  },
  {
   "cell_type": "code",
   "execution_count": 57,
   "id": "1df8f5e7-1ff8-46c6-9b9e-13ba3437a622",
   "metadata": {},
   "outputs": [],
   "source": [
    "com=np.delete(com, 0, axis=1)"
   ]
  },
  {
   "cell_type": "code",
   "execution_count": 63,
   "id": "8e5e3007-b080-4816-9055-04c2d318f6d5",
   "metadata": {},
   "outputs": [],
   "source": [
    "label_col=np.zeros((com.shape[0],1))+cur_label\n",
    "com = np.hstack((com,label_col))"
   ]
  },
  {
   "cell_type": "code",
   "execution_count": 64,
   "id": "7814b7cb-91d3-45ee-a89f-02b83b4b2a67",
   "metadata": {},
   "outputs": [
    {
     "data": {
      "text/plain": [
       "(14570, 13)"
      ]
     },
     "execution_count": 64,
     "metadata": {},
     "output_type": "execute_result"
    }
   ],
   "source": [
    "com.shape"
   ]
  },
  {
   "cell_type": "code",
   "execution_count": null,
   "id": "60473629-4e42-41ba-8ab4-0abf699fc79a",
   "metadata": {},
   "outputs": [],
   "source": []
  }
 ],
 "metadata": {
  "kernelspec": {
   "display_name": "Python 3 (ipykernel)",
   "language": "python",
   "name": "python3"
  },
  "language_info": {
   "codemirror_mode": {
    "name": "ipython",
    "version": 3
   },
   "file_extension": ".py",
   "mimetype": "text/x-python",
   "name": "python",
   "nbconvert_exporter": "python",
   "pygments_lexer": "ipython3",
   "version": "3.9.12"
  }
 },
 "nbformat": 4,
 "nbformat_minor": 5
}
