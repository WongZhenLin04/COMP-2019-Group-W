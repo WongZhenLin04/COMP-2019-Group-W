{
 "cells": [
  {
   "cell_type": "code",
   "execution_count": 127,
   "id": "febe9658-44c3-4ca4-8aae-865344426833",
   "metadata": {},
   "outputs": [],
   "source": [
    "import numpy as np\n",
    "import scipy\n",
    "from scipy.io import loadmat\n",
    "import mne, glob\n",
    "from mne_features.feature_extraction import extract_features\n",
    "import pandas as pd\n",
    "from ipynb.fs.full.fullDataExtraction import getRawArrayData\n",
    "from ipynb.fs.full.LabelTesting import makeOutThreeArr\n",
    "from sklearn.feature_selection import SelectKBest\n",
    "from sklearn.feature_selection import f_classif"
   ]
  },
  {
   "cell_type": "code",
   "execution_count": 128,
   "id": "6a282ca5-df71-4126-a036-915b29ab16b6",
   "metadata": {},
   "outputs": [],
   "source": [
    "def compute_diffEnt(data):\n",
    "    return scipy.stats.differential_entropy(data, axis=-1)"
   ]
  },
  {
   "cell_type": "code",
   "execution_count": 129,
   "id": "6a543031-8445-4744-b1f8-c8a9621ec010",
   "metadata": {},
   "outputs": [],
   "source": [
    "def get_features():\n",
    "    matfiles = glob.glob('Preprocessed_EEG/*.mat')\n",
    "    matfiles.sort()\n",
    "    labels=loadmat(matfiles[15])\n",
    "    label_list=np.ndarray.tolist(labels['label'])[0]\n",
    "    x=getRawArrayData()\n",
    "    selected_funcs = ['hjorth_complexity','hjorth_mobility',('diffEnt', compute_diffEnt),'std','skewness','mean','variance','ptp_amp','kurtosis','rms','hurst_exp','katz_fd']\n",
    "    allData=np.zeros((1,13))\n",
    "    for clips in x[0]:\n",
    "        cur_clip=mne.make_fixed_length_epochs(x[0][clips], duration=1, preload=True,verbose=0)\n",
    "        epoch_array=mne.Epochs.get_data(cur_clip)\n",
    "        cur_label=label_list[clips]\n",
    "        cur_func=[selected_funcs[0]]\n",
    "        extracted_data=extract_features(epoch_array,200,cur_func)\n",
    "        one_feature=np.reshape(extracted_data[0],(62,1))\n",
    "        for row in range (1,extracted_data.shape[0]):\n",
    "            cur_time_read = np.reshape(extracted_data[row],(62,1))\n",
    "            one_feature = np.vstack((one_feature,cur_time_read))\n",
    "        com=np.zeros((one_feature.shape[0],1))\n",
    "        com=np.hstack((com,one_feature))\n",
    "        for i in range(1,len(selected_funcs)):\n",
    "            cur_func=[selected_funcs[i]]\n",
    "            extracted_data=extract_features(epoch_array,200,cur_func)\n",
    "            one_feature=np.reshape(extracted_data[0],(62,1))\n",
    "            for j in range (1,extracted_data.shape[0]):\n",
    "                cur_time_read = np.reshape(extracted_data[j],(62,1))\n",
    "                one_feature = np.vstack((one_feature,cur_time_read))\n",
    "            com = np.hstack((com,one_feature))\n",
    "        label_col=np.zeros((com.shape[0],1))+cur_label\n",
    "        com=np.delete(com, 0, axis=1)\n",
    "        com = np.hstack((com,label_col))\n",
    "        allData=np.vstack((allData,com))\n",
    "    allData=np.delete(allData,0,axis=0)\n",
    "    allLabel=allData[:,-1]\n",
    "    allData = np.delete(allData,12,axis=1)\n",
    "    selector = SelectKBest(score_func=f_classif, k=5)\n",
    "    allData_new = selector.fit_transform(allData, allLabel)\n",
    "    selected=selector.get_support().tolist()\n",
    "    index=[]\n",
    "    for i in range(len(selected)):\n",
    "        if(selected[i]):\n",
    "            index.append(i)\n",
    "    features=[]\n",
    "    for i in index:\n",
    "        features.append(selected_funcs[i])\n",
    "    return features"
   ]
  },
  {
   "cell_type": "code",
   "execution_count": null,
   "id": "af41e4d2-4011-4363-849a-ef475ee2011e",
   "metadata": {},
   "outputs": [],
   "source": []
  }
 ],
 "metadata": {
  "kernelspec": {
   "display_name": "Python 3 (ipykernel)",
   "language": "python",
   "name": "python3"
  },
  "language_info": {
   "codemirror_mode": {
    "name": "ipython",
    "version": 3
   },
   "file_extension": ".py",
   "mimetype": "text/x-python",
   "name": "python",
   "nbconvert_exporter": "python",
   "pygments_lexer": "ipython3",
   "version": "3.9.12"
  }
 },
 "nbformat": 4,
 "nbformat_minor": 5
}
