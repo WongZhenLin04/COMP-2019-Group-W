{
 "cells": [
  {
   "cell_type": "code",
   "execution_count": 12,
   "id": "b83d675e-ece0-4c13-a4e9-772d3c055ae0",
   "metadata": {},
   "outputs": [],
   "source": [
    "from tensorflow import keras\n",
    "import numpy as np\n",
    "import scipy\n",
    "from scipy.io import loadmat\n",
    "import mne, glob\n",
    "import xlrd\n",
    "from ipynb.fs.full.fullDataExtraction import extarctChannelNames\n",
    "from ipynb.fs.full.feature_selection import get_features\n",
    "from mne_features.feature_extraction import extract_features\n",
    "from ipynb.fs.full.LabelTesting import makeOutThreeArr\n",
    "from ipynb.fs.full.fullDataExtraction import compute_diffEnt\n",
    "import pandas as pd"
   ]
  },
  {
   "cell_type": "code",
   "execution_count": 2,
   "id": "5153090e-2fc2-425c-afc7-8f6e1b4bc10f",
   "metadata": {},
   "outputs": [],
   "source": [
    "model = keras.models.load_model(\"emotionPredictionModel\")"
   ]
  },
  {
   "cell_type": "code",
   "execution_count": 3,
   "id": "7f1fa94e-2101-4f4f-9dab-a958dc121d35",
   "metadata": {},
   "outputs": [],
   "source": [
    "matfile=loadmat('1_20131107.mat')\n",
    "del matfile[\"__header__\"]\n",
    "del matfile[\"__version__\"]\n",
    "del matfile[\"__globals__\"]\n",
    "clip_info={}\n",
    "indexs=[1,2,3,4,5,6,7,8,9,10,11,12,13,14,15]\n",
    "keyName=list(matfile.keys())[0][:-1]\n",
    "channelNames=extarctChannelNames(pd.read_excel(\"Preprocessed_EEG/channel-order.xlsx\"))\n",
    "info=mne.create_info(channelNames,200,'eeg')\n",
    "for ind,i in enumerate(indexs):\n",
    "    rawData=matfile[keyName + str(i)]\n",
    "    clip_info[ind] = mne.io.RawArray(rawData,info,verbose=0)"
   ]
  },
  {
   "cell_type": "code",
   "execution_count": 8,
   "id": "7107b703-4589-4fc9-88e7-0b15af6aabc1",
   "metadata": {},
   "outputs": [],
   "source": [
    "sliced_epochs={}\n",
    "for clip in clip_info:\n",
    "    sliced_epochs[clip]= mne.make_fixed_length_epochs(clip_info[clip], duration=1, preload=True,verbose=0)"
   ]
  },
  {
   "cell_type": "code",
   "execution_count": 13,
   "id": "5b70ba6f-a6bc-4824-a99e-cc6d63086921",
   "metadata": {},
   "outputs": [],
   "source": [
    "features=['hjorth_mobility', ('diffEnt',compute_diffEnt), 'rms', 'skewness']"
   ]
  },
  {
   "cell_type": "code",
   "execution_count": 14,
   "id": "f3879286-6cda-4dca-a7ea-cfceed8621d0",
   "metadata": {},
   "outputs": [],
   "source": [
    "combined = np.zeros((1,len(features)*62))\n",
    "for cut in sliced_epochs:\n",
    "    epoch_array=mne.Epochs.get_data(sliced_epochs[cut])\n",
    "    extracted_data=extract_features(epoch_array,200,features)\n",
    "    combined = np.vstack((combined,extracted_data))\n",
    "combined = np.delete(combined, 0, axis=0)"
   ]
  },
  {
   "cell_type": "code",
   "execution_count": 18,
   "id": "a199a388-611c-451c-8a67-f330651f6f1d",
   "metadata": {},
   "outputs": [
    {
     "data": {
      "text/plain": [
       "(3394, 248)"
      ]
     },
     "execution_count": 18,
     "metadata": {},
     "output_type": "execute_result"
    }
   ],
   "source": [
    "combined.shape"
   ]
  },
  {
   "cell_type": "code",
   "execution_count": 15,
   "id": "4ccf2b79-2eeb-4a43-bca2-b72c14fe76c4",
   "metadata": {},
   "outputs": [
    {
     "name": "stdout",
     "output_type": "stream",
     "text": [
      "107/107 [==============================] - 1s 1ms/step\n"
     ]
    }
   ],
   "source": [
    "y_pred = model.predict(combined)\n",
    "y_pred = (y_pred > 0.5).astype(int)"
   ]
  },
  {
   "cell_type": "code",
   "execution_count": 16,
   "id": "0be6023e-75e3-4951-a571-c91721cabee1",
   "metadata": {},
   "outputs": [
    {
     "data": {
      "text/plain": [
       "array([[0, 0, 1],\n",
       "       [0, 0, 0],\n",
       "       [0, 0, 0],\n",
       "       ...,\n",
       "       [0, 1, 0],\n",
       "       [1, 0, 0],\n",
       "       [1, 0, 0]])"
      ]
     },
     "execution_count": 16,
     "metadata": {},
     "output_type": "execute_result"
    }
   ],
   "source": [
    "y_pred"
   ]
  },
  {
   "cell_type": "code",
   "execution_count": null,
   "id": "4e70f105-96ad-4f73-a7c6-2ec32dfeb0f8",
   "metadata": {},
   "outputs": [],
   "source": []
  }
 ],
 "metadata": {
  "kernelspec": {
   "display_name": "Python 3 (ipykernel)",
   "language": "python",
   "name": "python3"
  },
  "language_info": {
   "codemirror_mode": {
    "name": "ipython",
    "version": 3
   },
   "file_extension": ".py",
   "mimetype": "text/x-python",
   "name": "python",
   "nbconvert_exporter": "python",
   "pygments_lexer": "ipython3",
   "version": "3.9.12"
  }
 },
 "nbformat": 4,
 "nbformat_minor": 5
}
