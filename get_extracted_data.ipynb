{
 "cells": [
  {
   "cell_type": "code",
   "execution_count": 2,
   "id": "0fd514f8-5bd4-437b-95f1-533ebaf7b58d",
   "metadata": {},
   "outputs": [],
   "source": [
    "import numpy as np \n",
    "from scipy.io import loadmat\n",
    "import mne, glob\n",
    "import pandas as pd"
   ]
  },
  {
   "cell_type": "markdown",
   "id": "685c0cfa-577f-40af-b172-fa7401ea99ce",
   "metadata": {},
   "source": [
    "---"
   ]
  },
  {
   "cell_type": "code",
   "execution_count": 3,
   "id": "ae0b984c-161c-4d65-adcd-c50826101ba0",
   "metadata": {},
   "outputs": [],
   "source": [
    "def getDE_data():\n",
    "    combined = np.zeros((1,311))\n",
    "    matfiles = glob.glob('ExtractedFeatures/*.mat')\n",
    "    data= {}\n",
    "    labels=loadmat(matfiles[45])\n",
    "    matfiles.pop()\n",
    "    matfiles.sort()\n",
    "    label_list=np.ndarray.tolist(labels['label'])[0]\n",
    "    rest_of_index=[2,3,4,5,6,7,8,9,10,11,12,13,14,15]\n",
    "    for x in range(0,45,3):\n",
    "        #initial DE data must be done with clip_label[0]\n",
    "        used_data = loadmat(matfiles[x])['de_LDS1']\n",
    "        _, num, _ = used_data.shape\n",
    "        used_label = np.zeros(num,) + label_list[0]\n",
    "        used_data = np.swapaxes(used_data, 0, 1)\n",
    "        used_data = np.reshape(used_data, (num, -1))\n",
    "        used_label=used_label.reshape(num,1)\n",
    "        oneCom = np.hstack((used_data,used_label))\n",
    "        combined = np.vstack((combined,oneCom))\n",
    "        for ind,i in enumerate(rest_of_index):\n",
    "            used_data = loadmat(matfiles[x])['de_LDS' + str(i)]\n",
    "            _, num, _ = used_data.shape\n",
    "            used_label = np.zeros(num,) + label_list[ind+1]\n",
    "            used_data = np.swapaxes(used_data, 0, 1)\n",
    "            used_data = np.reshape(used_data, (num, -1))\n",
    "            used_label=used_label.reshape(num,1)\n",
    "            oneCom = np.hstack((used_data,used_label))\n",
    "            combined = np.vstack((combined,oneCom))\n",
    "        combined = np.delete(combined, 0, axis=0)\n",
    "    return combined"
   ]
  },
  {
   "cell_type": "code",
   "execution_count": null,
   "id": "974829e2-3c5a-4291-a889-ecbbb2b2b8ad",
   "metadata": {},
   "outputs": [],
   "source": []
  }
 ],
 "metadata": {
  "kernelspec": {
   "display_name": "Python 3 (ipykernel)",
   "language": "python",
   "name": "python3"
  },
  "language_info": {
   "codemirror_mode": {
    "name": "ipython",
    "version": 3
   },
   "file_extension": ".py",
   "mimetype": "text/x-python",
   "name": "python",
   "nbconvert_exporter": "python",
   "pygments_lexer": "ipython3",
   "version": "3.9.12"
  }
 },
 "nbformat": 4,
 "nbformat_minor": 5
}
