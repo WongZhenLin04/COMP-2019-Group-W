{
 "cells": [
  {
   "cell_type": "code",
   "execution_count": 7,
   "id": "48ee387e-6198-44fc-b4d9-4f711f54fa11",
   "metadata": {},
   "outputs": [],
   "source": [
    "import numpy as np\n",
    "import scipy\n",
    "from scipy.io import loadmat\n",
    "import mne, glob\n",
    "import pandas as pd\n",
    "import xlrd"
   ]
  },
  {
   "cell_type": "code",
   "execution_count": 9,
   "id": "5113d439-675d-4752-be8f-2238dd9816ad",
   "metadata": {},
   "outputs": [],
   "source": [
    "def getRawArrayData():\n",
    "    channels=pd.read_excel(\"Preprocessed_EEG/channel-order.xlsx\")\n",
    "    channelNames=channels.iloc[:,0]\n",
    "    channelNames=np.ndarray.tolist(pd.Series.to_numpy(channelNames))\n",
    "    channelNames.insert(0,\"FP1\")\n",
    "    matfiles = glob.glob('Preprocessed_EEG/*.mat')\n",
    "    matfiles.sort()\n",
    "    labels=loadmat(matfiles[15])\n",
    "    matfiles.pop()\n",
    "    label_list=np.ndarray.tolist(labels['label'])[0]\n",
    "    info=mne.create_info(channelNames,200,'eeg')\n",
    "    clip_info={}\n",
    "    subjects={}\n",
    "    indexs=[1,2,3,4,5,6,7,8,9,10,11,12,13,14,15]\n",
    "    for x in range(0,15):\n",
    "        used_data = loadmat(matfiles[x])\n",
    "        del used_data[\"__header__\"]\n",
    "        del used_data[\"__version__\"]\n",
    "        del used_data[\"__globals__\"]\n",
    "        keyName=list(used_data.keys())[0][:-1]\n",
    "        for ind,i in enumerate(indexs):\n",
    "            rawData=used_data[keyName + str(i)]\n",
    "            clip_info[ind] = mne.io.RawArray(rawData,info,verbose=0)\n",
    "        subjects[x]=clip_info\n",
    "    return subjects"
   ]
  },
  {
   "cell_type": "code",
   "execution_count": null,
   "id": "c9d41513-c7ec-4477-a573-19a6c1b391bd",
   "metadata": {},
   "outputs": [],
   "source": []
  }
 ],
 "metadata": {
  "kernelspec": {
   "display_name": "Python 3 (ipykernel)",
   "language": "python",
   "name": "python3"
  },
  "language_info": {
   "codemirror_mode": {
    "name": "ipython",
    "version": 3
   },
   "file_extension": ".py",
   "mimetype": "text/x-python",
   "name": "python",
   "nbconvert_exporter": "python",
   "pygments_lexer": "ipython3",
   "version": "3.9.12"
  }
 },
 "nbformat": 4,
 "nbformat_minor": 5
}
