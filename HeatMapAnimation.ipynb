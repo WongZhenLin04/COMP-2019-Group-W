{
 "cells": [
  {
   "cell_type": "code",
   "execution_count": 1,
   "id": "f133559d-c9ef-4617-a8c4-dcb0ecb7ad36",
   "metadata": {},
   "outputs": [],
   "source": [
    "import numpy as np\n",
    "import scipy\n",
    "from scipy.io import loadmat\n",
    "import mne, glob\n",
    "from mne_features.feature_extraction import extract_features\n",
    "import pandas as pd\n",
    "from ipynb.fs.full.fullDataExtraction import getRawArrayData\n",
    "import plotly.express as px\n",
    "import plotly.offline as py\n",
    "import plotly.graph_objects as go\n",
    "import plotly\n",
    "import math"
   ]
  },
  {
   "cell_type": "code",
   "execution_count": 2,
   "id": "d0b92f22-becd-4545-889e-38a75e303be1",
   "metadata": {},
   "outputs": [],
   "source": [
    "channels=pd.read_excel(\"Preprocessed_EEG/channel-order(viz).xlsx\")\n",
    "channelNames=channels.iloc[:,0]\n",
    "channelNames=np.ndarray.tolist(pd.Series.to_numpy(channelNames))\n",
    "channelNames.insert(0,\"Fp1\")\n",
    "info=mne.create_info(channelNames,200,'eeg')\n",
    "subject=loadmat('1_20131107.mat')\n",
    "ch_types = ['eeg'] * len(channelNames)\n",
    "info = mne.create_info(channelNames, ch_types=ch_types, sfreq=200)\n",
    "info.set_montage('standard_1020')\n",
    "data=np.delete(subject['djc_eeg1'], 61, 0)\n",
    "data=np.delete(data, 57, 0)\n",
    "evoked=mne.EvokedArray(data,info)"
   ]
  },
  {
   "cell_type": "code",
   "execution_count": 3,
   "id": "b68424b4-c586-4f18-8bcc-bb20666087ac",
   "metadata": {},
   "outputs": [],
   "source": [
    "def makeValueMatrix(currentAnalysed):\n",
    "    result=pd.read_excel(\"Preprocessed_EEG/channel-order(topo).xlsx\").to_numpy().astype(np.float32)\n",
    "    #tracker value\n",
    "    k=0\n",
    "    for i in range(0,result.shape[0]):\n",
    "        for j in range (0,result.shape[1]):\n",
    "            if not(math.isnan(result[i][j])):\n",
    "                result[i][j]=currentAnalysed[k]\n",
    "                k+=1\n",
    "    \n",
    "    return result"
   ]
  },
  {
   "cell_type": "code",
   "execution_count": 4,
   "id": "be532cb9-a89a-4a9f-8990-2b5470d3e2e4",
   "metadata": {},
   "outputs": [],
   "source": [
    "def makePostionList(data):\n",
    "    position=[]\n",
    "    for column in range (0,data.shape[1]):\n",
    "        position.append(makeValueMatrix(data[:,column]))\n",
    "    return position"
   ]
  },
  {
   "cell_type": "code",
   "execution_count": 5,
   "id": "73685cd1-a114-4007-8a88-fb1bbdf555f2",
   "metadata": {},
   "outputs": [],
   "source": [
    "points=makePostionList(data)"
   ]
  },
  {
   "cell_type": "code",
   "execution_count": 28,
   "id": "51e35769-4036-425f-a12e-50f9bc17c722",
   "metadata": {},
   "outputs": [],
   "source": [
    "frames = [\n",
    "    go.Frame(data=go.Heatmap(z=points[i]),name=i)\n",
    "    for i in range(0,500)\n",
    "]"
   ]
  },
  {
   "cell_type": "code",
   "execution_count": 37,
   "id": "f6e4929d-3a10-46fc-8642-16c1e14cc06f",
   "metadata": {},
   "outputs": [],
   "source": [
    "slider=[{\"steps\": [{\"args\": [[f.name],{\"frame\": {\"duration\": 0, \"redraw\": True},\n",
    "                                            \"mode\": \"immediate\",},],\n",
    "                         \"label\": f.name, \"method\": \"animate\",}\n",
    "                        for f in frames],}]"
   ]
  },
  {
   "cell_type": "code",
   "execution_count": 40,
   "id": "6ceb6732-2062-49cd-a4c0-3cc4535cf143",
   "metadata": {},
   "outputs": [],
   "source": [
    "fig=go.Figure(data=frames[0].data, frames=frames).update_layout(\n",
    "    updatemenus=[\n",
    "        {\n",
    "            \"buttons\": [{\"args\": [None, {\"frame\": {\"duration\": 500, \"redraw\": True}}],\n",
    "                         \"label\": \"Play\", \"method\": \"animate\",},\n",
    "                        {\"args\": [[None],{\"frame\": {\"duration\": 0, \"redraw\": False},\n",
    "                                          \"mode\": \"immediate\", \"transition\": {\"duration\": 0},},],\n",
    "                         \"label\": \"Pause\", \"method\": \"animate\",},],\n",
    "            \"type\": \"buttons\",\n",
    "        }\n",
    "    ],\n",
    "    sliders=slider,\n",
    "    height=800,\n",
    ")"
   ]
  },
  {
   "cell_type": "code",
   "execution_count": 41,
   "id": "a976a777-3e2a-4878-8ff4-f38fa35acdcc",
   "metadata": {},
   "outputs": [
    {
     "name": "stdout",
     "output_type": "stream",
     "text": [
      "Dash app running on http://127.0.0.1:8050/\n"
     ]
    }
   ],
   "source": [
    "from dash import html, dcc\n",
    "from jupyter_dash import JupyterDash\n",
    "app = JupyterDash(__name__)\n",
    "app.layout = html.Div(children=[\n",
    "        dcc.Graph(\n",
    "        id='example-graph',\n",
    "        figure=fig\n",
    "    )\n",
    "])\n",
    "if __name__ == '__main__':\n",
    "    app.run_server(debug=True)"
   ]
  },
  {
   "cell_type": "code",
   "execution_count": null,
   "id": "9f8c0e3b-d409-4fb8-8b4e-67dc14aaaff8",
   "metadata": {},
   "outputs": [],
   "source": []
  }
 ],
 "metadata": {
  "kernelspec": {
   "display_name": "Python 3 (ipykernel)",
   "language": "python",
   "name": "python3"
  },
  "language_info": {
   "codemirror_mode": {
    "name": "ipython",
    "version": 3
   },
   "file_extension": ".py",
   "mimetype": "text/x-python",
   "name": "python",
   "nbconvert_exporter": "python",
   "pygments_lexer": "ipython3",
   "version": "3.9.12"
  }
 },
 "nbformat": 4,
 "nbformat_minor": 5
}
