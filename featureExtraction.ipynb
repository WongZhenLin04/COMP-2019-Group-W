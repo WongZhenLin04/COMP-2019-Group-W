{
 "cells": [
  {
   "cell_type": "code",
   "execution_count": 1,
   "id": "bf0e436e-a612-4a20-bb7b-25627afb4117",
   "metadata": {},
   "outputs": [],
   "source": [
    "import numpy as np\n",
    "import scipy\n",
    "from scipy.io import loadmat\n",
    "import mne, glob\n",
    "from mne_features.feature_extraction import extract_features\n",
    "import pandas as pd\n",
    "from ipynb.fs.full.fullDataExtraction import getRawArrayData"
   ]
  },
  {
   "cell_type": "code",
   "execution_count": 63,
   "id": "ae4be0c8-ccd3-412d-b2bf-59bcb1e460f8",
   "metadata": {},
   "outputs": [],
   "source": [
    "def getAllFeatureData():\n",
    "    matfiles = glob.glob('Preprocessed_EEG/*.mat')\n",
    "    matfiles.sort()\n",
    "    labels=loadmat(matfiles[15])\n",
    "    label_list=np.ndarray.tolist(labels['label'])[0]\n",
    "    x=getRawArrayData()\n",
    "    sliced_epochs={}\n",
    "    combined = np.zeros((1,311))\n",
    "    selected_funcs = ['hjorth_complexity','hjorth_mobility',('diffEnt', compute_diffEnt),'std','skewness']\n",
    "    for subs in x:\n",
    "        for clip in x[subs]:\n",
    "            sliced_epochs[clip]= mne.make_fixed_length_epochs(x[0][clip], duration=1, preload=True,verbose=0)\n",
    "        for cut in sliced_epochs:\n",
    "            label_used=label_list[cut]\n",
    "            epoch_array=mne.Epochs.get_data(sliced_epochs[cut])\n",
    "            extracted_data=extract_features(epoch_array,200,selected_funcs)\n",
    "            label_col = np.zeros((extracted_data.shape[0],1)) + label_used\n",
    "            oneCom = np.hstack((extracted_data,label_col))\n",
    "            combined = np.vstack((combined,oneCom))\n",
    "    combined = np.delete(combined, 0, axis=0)\n",
    "    return combined"
   ]
  },
  {
   "cell_type": "code",
   "execution_count": 64,
   "id": "7bf2ff9e-873c-4c6e-91cf-28c6923eb674",
   "metadata": {},
   "outputs": [],
   "source": [
    "def compute_diffEnt(data):\n",
    "    return scipy.stats.differential_entropy(data, axis=-1)"
   ]
  }
 ],
 "metadata": {
  "kernelspec": {
   "display_name": "Python 3 (ipykernel)",
   "language": "python",
   "name": "python3"
  },
  "language_info": {
   "codemirror_mode": {
    "name": "ipython",
    "version": 3
   },
   "file_extension": ".py",
   "mimetype": "text/x-python",
   "name": "python",
   "nbconvert_exporter": "python",
   "pygments_lexer": "ipython3",
   "version": "3.9.12"
  }
 },
 "nbformat": 4,
 "nbformat_minor": 5
}
