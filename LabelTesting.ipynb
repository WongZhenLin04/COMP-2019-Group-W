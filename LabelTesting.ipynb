{
 "cells": [
  {
   "cell_type": "code",
   "execution_count": 7,
   "id": "5e0bbfc1-c785-455f-8b2b-319c6ed4cac8",
   "metadata": {},
   "outputs": [],
   "source": [
    "import numpy as np\n",
    "import pandas as pd"
   ]
  },
  {
   "cell_type": "code",
   "execution_count": 1,
   "id": "4ebfb2c2-2e34-48f6-8871-5a865e1ed71a",
   "metadata": {},
   "outputs": [],
   "source": [
    "def makeOutThreeArr(label):\n",
    "    label = np.reshape(label, (label.shape[0], 1))\n",
    "    label_count = label.shape[0]\n",
    "    a = np.zeros((label_count, 2), float)\n",
    "    label = np.hstack((label, a))\n",
    "    for i in range(label.shape[0]):\n",
    "        if np.array_equal(label[i],([1, 0, 0])) == True:\n",
    "            label[i] = [1, 0, 0]\n",
    "        if np.array_equal(label[i],([0, 0, 0])) == True:\n",
    "            label[i] = [0, 1, 0]\n",
    "        if np.array_equal(label[i],([-1, 0, 0])) == True:\n",
    "            label[i] = [0, 0, 1]\n",
    "    return label"
   ]
  },
  {
   "cell_type": "code",
   "execution_count": null,
   "id": "7ea60a44-af50-4eb3-b713-9746e2d89260",
   "metadata": {},
   "outputs": [],
   "source": []
  }
 ],
 "metadata": {
  "kernelspec": {
   "display_name": "Python 3 (ipykernel)",
   "language": "python",
   "name": "python3"
  },
  "language_info": {
   "codemirror_mode": {
    "name": "ipython",
    "version": 3
   },
   "file_extension": ".py",
   "mimetype": "text/x-python",
   "name": "python",
   "nbconvert_exporter": "python",
   "pygments_lexer": "ipython3",
   "version": "3.9.12"
  }
 },
 "nbformat": 4,
 "nbformat_minor": 5
}
