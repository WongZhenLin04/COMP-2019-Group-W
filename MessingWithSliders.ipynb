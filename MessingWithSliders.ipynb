{
 "cells": [
  {
   "cell_type": "code",
   "execution_count": 1,
   "id": "75519f08-7e57-47d1-bb2f-9bbee3855894",
   "metadata": {},
   "outputs": [],
   "source": [
    "import numpy as np\n",
    "import scipy\n",
    "from scipy.io import loadmat\n",
    "import mne, glob\n",
    "from mne_features.feature_extraction import extract_features\n",
    "import pandas as pd\n",
    "from ipynb.fs.full.fullDataExtraction import getRawArrayData\n",
    "import plotly.express as px\n",
    "import plotly.offline as py\n",
    "import plotly.graph_objects as go\n",
    "import plotly\n",
    "import math"
   ]
  },
  {
   "cell_type": "code",
   "execution_count": 2,
   "id": "5109baf9-375c-4fb3-a044-ac62b900a0aa",
   "metadata": {},
   "outputs": [],
   "source": [
    "channels=pd.read_excel(\"Preprocessed_EEG/channel-order(viz).xlsx\")\n",
    "channelNames=channels.iloc[:,0]\n",
    "channelNames=np.ndarray.tolist(pd.Series.to_numpy(channelNames))\n",
    "channelNames.insert(0,\"Fp1\")\n",
    "info=mne.create_info(channelNames,200,'eeg')\n",
    "subject=loadmat('1_20131107.mat')\n",
    "ch_types = ['eeg'] * len(channelNames)\n",
    "info = mne.create_info(channelNames, ch_types=ch_types, sfreq=200)\n",
    "info.set_montage('standard_1020')\n",
    "data=np.delete(subject['djc_eeg1'], 61, 0)\n",
    "data=np.delete(data, 57, 0)\n",
    "evoked=mne.EvokedArray(data,info)\n",
    "transposedData=np.transpose(data)\n",
    "df = pd.DataFrame(transposedData, columns = channelNames)\n",
    "df = df.head(500)"
   ]
  },
  {
   "cell_type": "code",
   "execution_count": 4,
   "id": "f9e5655b-4737-44d6-9e23-2c64507e1aca",
   "metadata": {},
   "outputs": [],
   "source": [
    "def makeValueMatrix(currentAnalysed):\n",
    "    result=pd.read_excel(\"Preprocessed_EEG/channel-order(topo).xlsx\").to_numpy().astype(np.float32)\n",
    "    #tracker value\n",
    "    k=0\n",
    "    for i in range(0,result.shape[0]):\n",
    "        for j in range (0,result.shape[1]):\n",
    "            if not(math.isnan(result[i][j])):\n",
    "                result[i][j]=currentAnalysed[k]\n",
    "                k+=1\n",
    "    \n",
    "    return result"
   ]
  },
  {
   "cell_type": "code",
   "execution_count": 5,
   "id": "044cb595-bfbe-44db-a186-4df8f31da2d0",
   "metadata": {},
   "outputs": [],
   "source": [
    "def makePostionList(data):\n",
    "    position=[]\n",
    "    for column in range (0,500):\n",
    "        position.append(makeValueMatrix(data[:,column]))\n",
    "    return position"
   ]
  },
  {
   "cell_type": "code",
   "execution_count": 6,
   "id": "270b8fe7-f88c-499a-bd0e-3b40e948d9ac",
   "metadata": {},
   "outputs": [],
   "source": [
    "points=makePostionList(data)"
   ]
  },
  {
   "cell_type": "code",
   "execution_count": 59,
   "id": "8404b1a0-bda1-4570-84a0-ce032b155d77",
   "metadata": {},
   "outputs": [
    {
     "name": "stdout",
     "output_type": "stream",
     "text": [
      "Dash app running on http://127.0.0.1:8050/\n"
     ]
    }
   ],
   "source": [
    "from dash import Dash, dcc, html, Input, Output\n",
    "from jupyter_dash import JupyterDash\n",
    "app = JupyterDash(__name__)\n",
    "slider = html.Div(\n",
    "    [\n",
    "        html.Label(\"Select Time Frame\", htmlFor=\"time\"),\n",
    "        dcc.Slider(\n",
    "            min=0,\n",
    "            max=500,\n",
    "            step=5,\n",
    "            value=0,\n",
    "            id=\"time\",\n",
    "            marks=None,\n",
    "            tooltip={\"placement\": \"bottom\", \"always_visible\": True},\n",
    "        ),\n",
    "    ]\n",
    ")\n",
    "app.layout = html.Div(className='row', children=[\n",
    "                 slider,\n",
    "                 #container for linechart and heatMap\n",
    "                 html.Div(\n",
    "                     children=[\n",
    "                     #heatmap div\n",
    "                     html.Div(\n",
    "                        children=[\n",
    "                            dcc.Graph(id=\"heatmap\"),\n",
    "                     ],style={'display': 'inline-block'}),\n",
    "                     #line chart div\n",
    "                     html.Div(\n",
    "                         children=[\n",
    "                            dcc.Graph(id=\"lineChart\")\n",
    "                     ],style={'display': 'inline-block'})\n",
    "                 ])\n",
    "                ])\n",
    "@app.callback(Output(\"heatmap\", \"figure\"),\n",
    "              Output(\"lineChart\", \"figure\"),\n",
    "              Input(\"time\", \"value\"))\n",
    "def updateFigures(time_instance):\n",
    "    heatMap = px.imshow(points[time_instance])\n",
    "    heatMap.update_xaxes(showticklabels=False)\n",
    "    heatMap.update_yaxes(showticklabels=False)\n",
    "    heatMap.update_layout(xaxis=dict(scaleanchor='y', constrain='domain'),\n",
    "                  width=550,\n",
    "                  height=500 \n",
    "                 )\n",
    "    lineChart= px.line(df.head(time_instance))\n",
    "    return heatMap, lineChart\n",
    "if __name__ == \"__main__\":\n",
    "    app.run_server()"
   ]
  },
  {
   "cell_type": "code",
   "execution_count": null,
   "id": "fc959698-e47a-4376-8bab-990804c1c060",
   "metadata": {},
   "outputs": [],
   "source": []
  }
 ],
 "metadata": {
  "kernelspec": {
   "display_name": "Python 3 (ipykernel)",
   "language": "python",
   "name": "python3"
  },
  "language_info": {
   "codemirror_mode": {
    "name": "ipython",
    "version": 3
   },
   "file_extension": ".py",
   "mimetype": "text/x-python",
   "name": "python",
   "nbconvert_exporter": "python",
   "pygments_lexer": "ipython3",
   "version": "3.9.12"
  }
 },
 "nbformat": 4,
 "nbformat_minor": 5
}
